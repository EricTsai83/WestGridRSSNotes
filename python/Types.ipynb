{
 "cells": [
  {
   "cell_type": "markdown",
   "metadata": {},
   "source": [
    "# Python\n"
   ]
  },
  {
   "cell_type": "markdown",
   "metadata": {},
   "source": [
    "## Types\n",
    "\n",
    "Data in python takes the form of _objects_. These can be a combination of intrinsic object types, classes and other objects built in python or external objects imported from libraries etc. In general an object will have some value(s) and associated operations. You can use the `type` keyword to examine the type of just about any object.\n",
    "\n",
    "* [Numbers](#Numbers)\n",
    "* [Strings](#Strings)\n",
    "* [Lists](#Lists)\n",
    "* [Dictionaries](#Dictionaries)\n",
    "* [Tuples](#Tuples)\n",
    "* [Sets](#Sets)\n",
    "* [Files](#Files)\n",
    "* [Other Types](#Other-Types)\n",
    "\n",
    "\n",
    "In Python3, everything is an object, and the objects that come as part of the language standard are pretty comprehensive and powerful. For short programs, you can often get away with using only intrinsic types\n",
    "\n",
    "### Numbers\n",
    "  \n",
    "For literals, you can just treat python as a calculator and start feeding it numbers. The usual integer and floating point things are available. For integer arithmeitc you don't need to worry about precision, python integers are arbitrary length. The usual type casting rules apply and you have the following operations\n",
    "\n",
    " * Ordinary arithmetic: +, -, *, **, / (Use // if you need integer division in Python3)\n",
    " * Bitwise operators: >>, &, | etc.\n",
    " * Functions: pow, abs, round, int, hex, bin, etc.\n",
    "\n",
    "The language also includes the `math` and `random` modules in the standard library, but for the most part it's best to use numpy for anything beyond basic arithmetic."
   ]
  },
  {
   "cell_type": "code",
   "execution_count": null,
   "metadata": {},
   "outputs": [],
   "source": []
  },
  {
   "cell_type": "markdown",
   "metadata": {},
   "source": [
    "The Decimal and Fraction types don't come up very often but they let you work with fixed precision and rational numbers respectively. Try looking at `0.1 * 3 - 0.3` as a floating point operation vs. the same thing in Decimals\n",
    "\n",
    "from decimal import Decimal\n",
    "from fractions import Fraction"
   ]
  },
  {
   "cell_type": "code",
   "execution_count": 7,
   "metadata": {},
   "outputs": [
    {
     "data": {
      "text/plain": [
       "Decimal('0.0')"
      ]
     },
     "execution_count": 7,
     "metadata": {},
     "output_type": "execute_result"
    }
   ],
   "source": []
  },
  {
   "cell_type": "markdown",
   "metadata": {},
   "source": [
    "You can try the same thing with fractions, try `2/3 - 3/5 + .25`"
   ]
  },
  {
   "cell_type": "code",
   "execution_count": 10,
   "metadata": {},
   "outputs": [
    {
     "data": {
      "text/plain": [
       "0.31666666666666665"
      ]
     },
     "execution_count": 10,
     "metadata": {},
     "output_type": "execute_result"
    }
   ],
   "source": []
  },
  {
   "cell_type": "markdown",
   "metadata": {},
   "source": [
    "### Strings\n",
    "\n",
    "All strings are unicode in Pythøn3, this is wonderful because it lets us type whatever we want; 🥰. The downside of this is you end up encoding and decoding everything. If you know the unicode for the thing you want to type you can just enter it as e.g. \"\\u265E\""
   ]
  },
  {
   "cell_type": "code",
   "execution_count": 11,
   "metadata": {},
   "outputs": [
    {
     "data": {
      "text/plain": [
       "'♞'"
      ]
     },
     "execution_count": 11,
     "metadata": {},
     "output_type": "execute_result"
    }
   ],
   "source": []
  },
  {
   "cell_type": "raw",
   "metadata": {},
   "source": [
    "Strings can be interpreted as sequences, things that have a length and a definite order, so e.g."
   ]
  },
  {
   "cell_type": "code",
   "execution_count": null,
   "metadata": {},
   "outputs": [],
   "source": []
  },
  {
   "cell_type": "markdown",
   "metadata": {},
   "source": [
    "We can also use index notation to examine parts of the string. This notation is *very* widely used in the Python ecosystem. It is worth mastering before moving on. The general syntax is `sequence[start:stop:stride]`. `start` is inclusive so the character at position `start` _will_ be included, but `stop` is exclusive! If you omit the `start` value, the start of the string (position `0` in python) is assumed, if you omit `stop`, the end of the string (inclusive) will be assumed, and if you omit the `stride`, 1 will be assumed."
   ]
  },
  {
   "cell_type": "code",
   "execution_count": null,
   "metadata": {},
   "outputs": [],
   "source": []
  },
  {
   "cell_type": "markdown",
   "metadata": {},
   "source": [
    "You can also use negative numbers to specify locations relative to the _end_ of the string with negative numbers"
   ]
  },
  {
   "cell_type": "code",
   "execution_count": 16,
   "metadata": {},
   "outputs": [
    {
     "data": {
      "text/plain": [
       "'g'"
      ]
     },
     "execution_count": 16,
     "metadata": {},
     "output_type": "execute_result"
    }
   ],
   "source": []
  },
  {
   "cell_type": "markdown",
   "metadata": {},
   "source": [
    "Strings are immutable, once they have been created you can read values from them, but you can't update them in place. This isn't as limiting as it sounds because you can assign your transformed strings to a new (or the same) variable."
   ]
  },
  {
   "cell_type": "code",
   "execution_count": 19,
   "metadata": {},
   "outputs": [
    {
     "ename": "TypeError",
     "evalue": "'str' object does not support item assignment",
     "output_type": "error",
     "traceback": [
      "\u001b[0;31m---------------------------------------------------------------------------\u001b[0m",
      "\u001b[0;31mTypeError\u001b[0m                                 Traceback (most recent call last)",
      "\u001b[0;32m<ipython-input-19-3ea16aca6833>\u001b[0m in \u001b[0;36m<module>\u001b[0;34m\u001b[0m\n\u001b[0;32m----> 1\u001b[0;31m \u001b[0ms\u001b[0m\u001b[0;34m[\u001b[0m\u001b[0;36m0\u001b[0m\u001b[0;34m:\u001b[0m\u001b[0;36m2\u001b[0m\u001b[0;34m]\u001b[0m \u001b[0;34m=\u001b[0m \u001b[0;34m'Your'\u001b[0m\u001b[0;34m\u001b[0m\u001b[0;34m\u001b[0m\u001b[0m\n\u001b[0m",
      "\u001b[0;31mTypeError\u001b[0m: 'str' object does not support item assignment"
     ]
    }
   ],
   "source": []
  },
  {
   "cell_type": "markdown",
   "metadata": {},
   "source": [
    "Stings also have lots of methods which you can use to transform the. Try typing s.<TAB> and see what Jupyter suggests in the completions"
   ]
  },
  {
   "cell_type": "markdown",
   "metadata": {},
   "source": [
    "### Lists\n",
    "\n",
    "Lists might be the most flexible collection object in Python. They are ordered collections which you can fill them with different types of objects (strings, numbers, other lists, etc.). You can iterate over them, add + remove elements etc. To make a list you surrond the elements with square brackets and separate items by commas"
   ]
  },
  {
   "cell_type": "code",
   "execution_count": 22,
   "metadata": {},
   "outputs": [
    {
     "data": {
      "text/plain": [
       "[1, 'two', 3.0]"
      ]
     },
     "execution_count": 22,
     "metadata": {},
     "output_type": "execute_result"
    }
   ],
   "source": []
  },
  {
   "cell_type": "markdown",
   "metadata": {},
   "source": [
    "You can use the same indexing sytnax as before..."
   ]
  },
  {
   "cell_type": "code",
   "execution_count": 24,
   "metadata": {},
   "outputs": [
    {
     "data": {
      "text/plain": [
       "[1, 3.0]"
      ]
     },
     "execution_count": 24,
     "metadata": {},
     "output_type": "execute_result"
    }
   ],
   "source": []
  },
  {
   "cell_type": "markdown",
   "metadata": {},
   "source": [
    "Lists are mutable, so you can update them in place"
   ]
  },
  {
   "cell_type": "code",
   "execution_count": 1,
   "metadata": {},
   "outputs": [],
   "source": [
    "L = []"
   ]
  },
  {
   "cell_type": "markdown",
   "metadata": {},
   "source": [
    "You can also `.append` to them, `.pop` items off the end, etc. Create a list and hit <TAB> twice to get some ideas"
   ]
  },
  {
   "cell_type": "code",
   "execution_count": 26,
   "metadata": {},
   "outputs": [
    {
     "data": {
      "text/plain": [
       "[-1, 'two', 3.0, 'four']"
      ]
     },
     "execution_count": 26,
     "metadata": {},
     "output_type": "execute_result"
    }
   ],
   "source": []
  },
  {
   "cell_type": "code",
   "execution_count": 27,
   "metadata": {},
   "outputs": [
    {
     "data": {
      "text/plain": [
       "['four', 3.0, 'two', -1]"
      ]
     },
     "execution_count": 27,
     "metadata": {},
     "output_type": "execute_result"
    }
   ],
   "source": [
    "L.reverse() # N.B. This will reverse in place, try running it twice\n",
    "L"
   ]
  },
  {
   "cell_type": "markdown",
   "metadata": {},
   "source": [
    "Lists are iterable so you can easily loop over them, e.g."
   ]
  },
  {
   "cell_type": "code",
   "execution_count": 28,
   "metadata": {},
   "outputs": [
    {
     "name": "stdout",
     "output_type": "stream",
     "text": [
      "four\n",
      "3.0\n",
      "two\n",
      "-1\n"
     ]
    }
   ],
   "source": [
    "for number in L:x\n",
    "    print(number)"
   ]
  },
  {
   "cell_type": "markdown",
   "metadata": {},
   "source": [
    "Before we move on, one common idiom you will see for iterating over lists is the \"list comprehension\". This is a quick and neat way of building a list (it returns a list):"
   ]
  },
  {
   "cell_type": "code",
   "execution_count": 29,
   "metadata": {},
   "outputs": [
    {
     "data": {
      "text/plain": [
       "[0, 2, 4, 6]"
      ]
     },
     "execution_count": 29,
     "metadata": {},
     "output_type": "execute_result"
    }
   ],
   "source": [
    "L2 = [2*number for number in range(4)]\n",
    "L2"
   ]
  },
  {
   "cell_type": "markdown",
   "metadata": {},
   "source": [
    "It is possible to add conditions in the for loop or to put lots of logic in the expression at the beginning but this is usually a bad idea, they can quickly become unreadable."
   ]
  },
  {
   "cell_type": "markdown",
   "metadata": {},
   "source": [
    "### Dictionaries\n",
    "\n",
    "Together, dictionaries and lists cover most of the collections you will see in python. A Dictionary is an (unordered!) list of key:value pairs. A HUGE portion of programming problems you will face boil down to implementing some sort of hash lookup and this is where dictionaries excel. You can create dictionaries with the curly brace notation"
   ]
  },
  {
   "cell_type": "code",
   "execution_count": 2,
   "metadata": {},
   "outputs": [],
   "source": [
    "D = {}"
   ]
  },
  {
   "cell_type": "markdown",
   "metadata": {},
   "source": [
    "The same square bracket notation is used to get items out of the dictionary"
   ]
  },
  {
   "cell_type": "code",
   "execution_count": 32,
   "metadata": {},
   "outputs": [
    {
     "data": {
      "text/plain": [
       "2.0"
      ]
     },
     "execution_count": 32,
     "metadata": {},
     "output_type": "execute_result"
    }
   ],
   "source": []
  },
  {
   "cell_type": "markdown",
   "metadata": {},
   "source": [
    "Dictionaries are mutable so you can change items in place"
   ]
  },
  {
   "cell_type": "code",
   "execution_count": 33,
   "metadata": {},
   "outputs": [
    {
     "data": {
      "text/plain": [
       "{'third': 1, 'second': 2, 'first': 'three'}"
      ]
     },
     "execution_count": 33,
     "metadata": {},
     "output_type": "execute_result"
    }
   ],
   "source": []
  },
  {
   "cell_type": "markdown",
   "metadata": {},
   "source": [
    "Dictionaries have lots of methods (look at D.<TAB>), but one particularly important one is items(). This method will\n",
    "There is also a concept of iterating over the dictionary (in a few distinct ways) but dictionaries aren't ordered. If you _need_ them to be ordered, you can work around this by sorting the keys (or values) in the loop"
   ]
  },
  {
   "cell_type": "code",
   "execution_count": 3,
   "metadata": {},
   "outputs": [],
   "source": [
    "for key, value in D.items():\n",
    "    print(f\"{key}: {value}\")"
   ]
  },
  {
   "cell_type": "code",
   "execution_count": 4,
   "metadata": {},
   "outputs": [],
   "source": [
    "for key,value in sorted(D.items()):\n",
    "    print(f\"{key}: {value}\")"
   ]
  },
  {
   "cell_type": "markdown",
   "metadata": {},
   "source": [
    "Dictionaries also have a comprehension idiom for quickly creating simple dictionaries, but again, use it sparingly and where it won't cause confusion."
   ]
  },
  {
   "cell_type": "code",
   "execution_count": 5,
   "metadata": {},
   "outputs": [
    {
     "data": {
      "text/plain": [
       "{'0': 0, '1': 1, '2': 2, '3': 3, '4': 4}"
      ]
     },
     "execution_count": 5,
     "metadata": {},
     "output_type": "execute_result"
    }
   ],
   "source": [
    "D2 = {str(i): i for i in range(5) }\n",
    "D2"
   ]
  },
  {
   "cell_type": "markdown",
   "metadata": {},
   "source": [
    "The `in` keyword will test for the existence of keys in a dict, e.g."
   ]
  },
  {
   "cell_type": "code",
   "execution_count": 6,
   "metadata": {},
   "outputs": [
    {
     "data": {
      "text/plain": [
       "True"
      ]
     },
     "execution_count": 6,
     "metadata": {},
     "output_type": "execute_result"
    }
   ],
   "source": [
    "'2' in D2"
   ]
  },
  {
   "cell_type": "code",
   "execution_count": 7,
   "metadata": {},
   "outputs": [
    {
     "data": {
      "text/plain": [
       "False"
      ]
     },
     "execution_count": 7,
     "metadata": {},
     "output_type": "execute_result"
    }
   ],
   "source": [
    "'33' in D2"
   ]
  },
  {
   "cell_type": "markdown",
   "metadata": {},
   "source": [
    "### Tuples\n",
    "\n",
    "Tuples are conceptually similar to Lists, but they are immutable. This makes them much more efficient in some contexts; you know they aren't going to be modified and you'll quite often see functions and methods returning tuples rather than lists. The syntax for creating them is very similar to lists, but with parentheses"
   ]
  },
  {
   "cell_type": "code",
   "execution_count": null,
   "metadata": {},
   "outputs": [],
   "source": []
  },
  {
   "cell_type": "markdown",
   "metadata": {},
   "source": [
    "Tuples kind-of have a notion of a comprehension, but they return a generator rather than all of the complete collection. Generators are a bit more of an advanced topic but basically they implement the idea of a stream with a .next() method which will let you walk along generating new values lazily, only when they are requested."
   ]
  },
  {
   "cell_type": "code",
   "execution_count": 43,
   "metadata": {},
   "outputs": [
    {
     "data": {
      "text/plain": [
       "[0, 1, 2, 3]"
      ]
     },
     "execution_count": 43,
     "metadata": {},
     "output_type": "execute_result"
    }
   ],
   "source": [
    "a = (i for i in range(4))\n",
    "list(a)"
   ]
  },
  {
   "cell_type": "markdown",
   "metadata": {},
   "source": [
    "### Sets\n",
    "\n",
    "Sets are not very common, but they can be useful in some context. They are mutable so you can add new items to them, but if the item already exists in the set no change is made. This can be useful because the items of the set are unique by construction. If you look at the methods on a set you will see the usual set operations, intersection, union etc."
   ]
  },
  {
   "cell_type": "code",
   "execution_count": 44,
   "metadata": {},
   "outputs": [
    {
     "data": {
      "text/plain": [
       "True"
      ]
     },
     "execution_count": 44,
     "metadata": {},
     "output_type": "execute_result"
    }
   ],
   "source": [
    "a = set((1, 2, 3))\n",
    "\n",
    "a == set((1, 2, 3, 3))"
   ]
  },
  {
   "cell_type": "markdown",
   "metadata": {},
   "source": [
    "### Files"
   ]
  },
  {
   "cell_type": "code",
   "execution_count": 46,
   "metadata": {},
   "outputs": [],
   "source": [
    "f = open('myfile.txt', 'w') # w is the mode of the operation, write in this case\n",
    "f.write(\"Westgrid\\n\")\n",
    "f.write(\"Summer School\\n\")\n",
    "f.close()"
   ]
  },
  {
   "cell_type": "markdown",
   "metadata": {},
   "source": [
    "We opened in write mode, this mode will clobber existing files called 'myfile.txt' in this directory. Take a look at the help for `open` for append and other modes. The close() method at the end is important, it will flush any remaining output to the file consistently."
   ]
  },
  {
   "cell_type": "code",
   "execution_count": 47,
   "metadata": {},
   "outputs": [
    {
     "name": "stdout",
     "output_type": "stream",
     "text": [
      "Westgrid\n",
      "Summer School\n",
      "\n"
     ]
    }
   ],
   "source": [
    "f = open('myfile.txt', 'r')\n",
    "contents = f.read() # This reads the _whole_ file! Be careful\n",
    "f.close()\n",
    "\n",
    "print(contents)"
   ]
  },
  {
   "cell_type": "markdown",
   "metadata": {},
   "source": [
    "By default open will work with text files, but you can use modes `w+b`, `r+b` to deal with binary files \n",
    "\n",
    "Before we move on there is one commoon idiom you will see when opening files"
   ]
  },
  {
   "cell_type": "markdown",
   "metadata": {},
   "source": [
    "### Other Types\n",
    "\n",
    "There are lots of other types, but the two most common you will see are Booleans and the special type None. Booleans are take two values `True` or `False`. And they behave as you would expect"
   ]
  },
  {
   "cell_type": "markdown",
   "metadata": {},
   "source": [
    "`None` is kind of a placeholder similar in spirit to NULL from other languages. You will often see it in tests (e.g. `if databaseConnection is None:`"
   ]
  },
  {
   "cell_type": "code",
   "execution_count": null,
   "metadata": {},
   "outputs": [],
   "source": []
  },
  {
   "cell_type": "code",
   "execution_count": 53,
   "metadata": {},
   "outputs": [
    {
     "data": {
      "text/plain": [
       "False"
      ]
     },
     "execution_count": 53,
     "metadata": {},
     "output_type": "execute_result"
    }
   ],
   "source": [
    "0 == None"
   ]
  },
  {
   "cell_type": "markdown",
   "metadata": {},
   "source": [
    "$$\n",
    "\\newcommand{\\christoffel}[3]{\\Gamma^{#1#2}_{#3}}\n",
    "\\christoffel{i}{j}{k}\n",
    "$$"
   ]
  }
 ],
 "metadata": {
  "kernelspec": {
   "display_name": "Python 3",
   "language": "python",
   "name": "python3"
  },
  "language_info": {
   "codemirror_mode": {
    "name": "ipython",
    "version": 3
   },
   "file_extension": ".py",
   "mimetype": "text/x-python",
   "name": "python",
   "nbconvert_exporter": "python",
   "pygments_lexer": "ipython3",
   "version": "3.7.3"
  }
 },
 "nbformat": 4,
 "nbformat_minor": 2
}
