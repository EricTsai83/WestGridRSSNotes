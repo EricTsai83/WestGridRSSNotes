{
 "cells": [
  {
   "cell_type": "markdown",
   "metadata": {},
   "source": [
    "# Python\n",
    "\n",
    "For the most part Python is very forgiving and intuitive. You can get pretty far by just experimenting and doing a couple of google sections. The files in this directory just introduce some of the basic ideas that we will be using for the other notebooks. If you are really lost, [this list of tutorials](https://wiki.python.org/moin/BeginnersGuide/Programmers) is probably a better place to start. With Jupyter, you can skip over all of the installation instructions and just start trying some stuff out. \n",
    "\n",
    "There is a companion notebook in this directory called [Types](./Types.ipynb) which delves into the python type system (along with some other stuff), but you can probably guess enough about types to read this notebook first.\n",
    "\n",
    "* [Program Structure](#Python-program-structure)\n",
    "* [Conditionals](#Conditionals)\n",
    "* [Loops](#Loops)\n",
    "* [Functions](#Functions)\n",
    "* [Classes](#Classes)\n",
    "* [Types](./Types.ipynb)\n",
    "\n",
    "# Python program structure\n",
    "\n",
    "The Python program structure is\n",
    "\n",
    "1. Programs are composed of modules\n",
    "1. Modules contain statements\n",
    "1. [Statements](https://docs.python.org/3/reference/simple_stmts.html) contain expressions\n",
    "1. Expressions create and process objects\n",
    "\n",
    "I'm a bit blurry on the distinctions between expressions and statements here, but...\n",
    "\n",
    "> A statement is a complete line of code that performs some action, while an expression is any section of the code that evaluates to a value. Expressions can be combined “horizontally” into larger expressions using operators, while statements can only be combined “vertically” by writing one after another, or with block constructs.\n",
    "Defining some of these terms"
   ]
  },
  {
   "cell_type": "markdown",
   "metadata": {},
   "source": [
    "## Assigments\n",
    "\n",
    "In python, names are created when you make an assignment, you don't need to worry about declaring types"
   ]
  },
  {
   "cell_type": "code",
   "execution_count": null,
   "metadata": {},
   "outputs": [],
   "source": []
  },
  {
   "cell_type": "markdown",
   "metadata": {},
   "source": [
    "You can also assign multiple elements at the same time in either tuple or list notation"
   ]
  },
  {
   "cell_type": "code",
   "execution_count": null,
   "metadata": {},
   "outputs": [],
   "source": []
  },
  {
   "cell_type": "markdown",
   "metadata": {},
   "source": [
    "And you can assign to multiple names at the same time"
   ]
  },
  {
   "cell_type": "code",
   "execution_count": null,
   "metadata": {},
   "outputs": [],
   "source": []
  },
  {
   "cell_type": "markdown",
   "metadata": {},
   "source": [
    "Python also supports the idea of Sequence assignments..."
   ]
  },
  {
   "cell_type": "code",
   "execution_count": null,
   "metadata": {},
   "outputs": [],
   "source": []
  },
  {
   "cell_type": "markdown",
   "metadata": {},
   "source": [
    "## Conditionals\n",
    "\n",
    "### if/elif/else"
   ]
  },
  {
   "cell_type": "code",
   "execution_count": null,
   "metadata": {},
   "outputs": [],
   "source": []
  },
  {
   "cell_type": "markdown",
   "metadata": {},
   "source": [
    "## Loops\n",
    "\n",
    "### While loops\n",
    "\n",
    "Evaluate the condition at the top of the loop and if it is true, execute the body\n",
    "\n",
    "Typical form\n",
    "```\n",
    "while <test>:\n",
    "    <statements>\n",
    "```"
   ]
  },
  {
   "cell_type": "code",
   "execution_count": null,
   "metadata": {},
   "outputs": [],
   "source": []
  },
  {
   "cell_type": "markdown",
   "metadata": {},
   "source": [
    "The `break`, `continue` and `pass` keywords will also modify control flow within a `while` loop. Look them up with the jupyter help system to understand more. They are useful, but can obfuscate your code so use them sparingly!"
   ]
  },
  {
   "cell_type": "markdown",
   "metadata": {},
   "source": [
    "### For loops\n",
    "For loops are very common, you can iterate over any collection\n",
    "\n",
    "General form:\n",
    "```\n",
    "for <target> in <object>:\n",
    "     <statements>\n",
    "```"
   ]
  },
  {
   "cell_type": "code",
   "execution_count": null,
   "metadata": {},
   "outputs": [],
   "source": []
  },
  {
   "cell_type": "markdown",
   "metadata": {},
   "source": [
    "**Exercies**: Nest two for loops and loop over to print all items in this nested list"
   ]
  },
  {
   "cell_type": "code",
   "execution_count": null,
   "metadata": {},
   "outputs": [],
   "source": [
    "countries = [\n",
    "    ['Canada','USA', 'Mexico'],\n",
    "    ['Australia', 'New Zealand'],\n",
    "    ['France', 'Germany', 'Romania']\n",
    "]"
   ]
  },
  {
   "cell_type": "markdown",
   "metadata": {},
   "source": [
    "**Exercise:** Write a while loop which will iterate over the numbers less than 100 and print out those divisible by 3"
   ]
  },
  {
   "cell_type": "markdown",
   "metadata": {},
   "source": [
    "## Functions\n",
    "\n",
    "Functions let you encapsulate and reuse logic. They also let you break down your code into chunks which you can test, debug and extend independently. \n",
    "\n",
    "Defining functions in Python is very easy with the def keyword\n",
    "\n",
    "Typical form\n",
    "```python\n",
    "def <name>:\n",
    "    <statements>\n",
    "    return <object>\n",
    "```\n",
    "\n",
    "Here, `def` is creating some executable code and giving it the name `<name>`\n"
   ]
  },
  {
   "cell_type": "code",
   "execution_count": null,
   "metadata": {},
   "outputs": [],
   "source": []
  },
  {
   "cell_type": "markdown",
   "metadata": {},
   "source": [
    "Adding more arguments is easy"
   ]
  },
  {
   "cell_type": "code",
   "execution_count": null,
   "metadata": {},
   "outputs": [],
   "source": []
  },
  {
   "cell_type": "markdown",
   "metadata": {},
   "source": [
    "The arguments and the return value(s) don't have to be simple types..."
   ]
  },
  {
   "cell_type": "code",
   "execution_count": null,
   "metadata": {},
   "outputs": [],
   "source": []
  },
  {
   "cell_type": "markdown",
   "metadata": {},
   "source": [
    "**Exercise:**: Write a function which takes two strings as its arguments and returns a tuple where the first item is the strings concatenated and the second is their combined length."
   ]
  },
  {
   "cell_type": "markdown",
   "metadata": {},
   "source": [
    "### Scope\n",
    "\n",
    "Python impements namespaces to keep variables from colobbering one another and to make modules and code more portable. This means that you can safely set the variable `x` in two different contexts and not have them interfere with each other. When you _want_ to have them interfere with each other, you have to understand the heirarchy of namespaces that python defines (the scope of the name `x`).\n",
    "\n",
    "The basic heirarchy is something like this..."
   ]
  },
  {
   "cell_type": "markdown",
   "metadata": {},
   "source": [
    "* **B**uilt in: e.g KeyWords `open`, `range`, ...\n",
    "    * **G**lobal (module): Things at the top level of a module e.g. random inside numpy\n",
    "        * **E**nclosing function locals\n",
    "            * **L**ocal (function): names assigned within a function and not set global\n",
    "       \n",
    "**LEGB**\n",
    "\n",
    "The idea is most specific wins. If I `from numpy import random`, then define random as a variable, my definition \"wins\""
   ]
  },
  {
   "cell_type": "code",
   "execution_count": null,
   "metadata": {},
   "outputs": [],
   "source": []
  },
  {
   "cell_type": "markdown",
   "metadata": {},
   "source": [
    "Sometimes you might want need to access a variable from one of the outer scopes, you can do this as with the `global` keyword as follows"
   ]
  },
  {
   "cell_type": "code",
   "execution_count": null,
   "metadata": {},
   "outputs": [],
   "source": []
  },
  {
   "cell_type": "markdown",
   "metadata": {},
   "source": [
    "### Lambda functions\n",
    "\n",
    "Python also has the idea of `lambda` functions. These are basically \"anonymous functions\". You can use them anywhere you would normally use a function, but you don't want to go to the bother of actually naming the thing. This sounds odd, given the description of modules I gave above, but it is sometimes useful, _I swear_! "
   ]
  },
  {
   "cell_type": "code",
   "execution_count": null,
   "metadata": {},
   "outputs": [],
   "source": [
    "def operateon(f, x, n):\n",
    "    \"\"\"Do an arbitrary multiplication\n",
    "    \n",
    "    Parameters:\n",
    "    x (number): Number we want multiplied\n",
    "    n (number): Number we want to multiply by\n",
    "    \n",
    "    Returns:\n",
    "    int: x * n\n",
    "    \"\"\"\n",
    "    pass"
   ]
  },
  {
   "cell_type": "code",
   "execution_count": null,
   "metadata": {},
   "outputs": [],
   "source": [
    "operateon(lambda x, n: x*n, 3, 4)"
   ]
  },
  {
   "cell_type": "code",
   "execution_count": null,
   "metadata": {},
   "outputs": [],
   "source": [
    "operateon?"
   ]
  },
  {
   "cell_type": "markdown",
   "metadata": {},
   "source": [
    "From my experience, lambda functions come up where someone has written code which expects a function as one of the arguments (e.g. massaging numbers to look like dates so that pandas can ingest them)."
   ]
  },
  {
   "cell_type": "markdown",
   "metadata": {},
   "source": [
    "## Printing\n",
    "\n",
    "In python 3, `print` is a function which can take an arbitrary number of arguments. The default is to just contactenate them (`sep=''`) and add a line break `end='\\n'`"
   ]
  },
  {
   "cell_type": "code",
   "execution_count": null,
   "metadata": {},
   "outputs": [],
   "source": []
  },
  {
   "cell_type": "markdown",
   "metadata": {},
   "source": [
    "There isn't a whole lot more to `print` itself, but it is worth looking at some other string syntaxes. My favourite one is a recent python3 addition called `f-strings`. To make an `f-string` just prepend the string with `f`, then you can surround your variables with curly braces."
   ]
  },
  {
   "cell_type": "code",
   "execution_count": null,
   "metadata": {},
   "outputs": [],
   "source": [
    "name = \"Ian\"\n",
    "trees = [\"alder\", \"beach\", \"coconut\"]"
   ]
  },
  {
   "cell_type": "code",
   "execution_count": null,
   "metadata": {},
   "outputs": [],
   "source": [
    "print(f\"{name} is shorter than a {trees[-1]} tree.\")"
   ]
  },
  {
   "cell_type": "markdown",
   "metadata": {},
   "source": [
    "The stuff inside the curly braces can be an python expression"
   ]
  },
  {
   "cell_type": "code",
   "execution_count": null,
   "metadata": {},
   "outputs": [],
   "source": []
  },
  {
   "cell_type": "markdown",
   "metadata": {},
   "source": [
    "You can split them across multiple lines by just writing them one after the other"
   ]
  },
  {
   "cell_type": "code",
   "execution_count": null,
   "metadata": {},
   "outputs": [],
   "source": []
  },
  {
   "cell_type": "markdown",
   "metadata": {},
   "source": [
    "When you need to adjust the default format, the syntax is `{name:conversion}`, where the format specifiers ar a [mini language](https://docs.python.org/3.6/library/string.html#format-specification-mini-language) defined as part of the language. e.g. a is an int, but convert it to a float before printing"
   ]
  },
  {
   "cell_type": "code",
   "execution_count": null,
   "metadata": {},
   "outputs": [],
   "source": []
  },
  {
   "cell_type": "markdown",
   "metadata": {},
   "source": [
    "Give me a fixed number of decimal places"
   ]
  },
  {
   "cell_type": "code",
   "execution_count": null,
   "metadata": {},
   "outputs": [],
   "source": []
  },
  {
   "cell_type": "markdown",
   "metadata": {},
   "source": [
    "You can also align fields, pad them etc. Take a look at the link above then try\n",
    "\n",
    "**Exercise**: Write a for loop to the following fixed width table.\n",
    "```\n",
    "   1 | 1.0000\n",
    "   2 | 0.5000\n",
    "   3 | 0.3333\n",
    "   4 | 0.2500\n",
    "   5 | 0.2000\n",
    "   6 | 0.1667\n",
    "   7 | 0.1429\n",
    "   8 | 0.1250\n",
    "   9 | 0.1111\n",
    "```"
   ]
  },
  {
   "cell_type": "code",
   "execution_count": null,
   "metadata": {},
   "outputs": [],
   "source": []
  },
  {
   "cell_type": "markdown",
   "metadata": {},
   "source": [
    "## Classes\n",
    "\n",
    "Object-Oriented programming in Python is a huge topic, and not one I know well. That said, the basiacs aren't too hard"
   ]
  },
  {
   "cell_type": "code",
   "execution_count": null,
   "metadata": {},
   "outputs": [],
   "source": [
    "class Fruit:\n",
    "    def __init__(self, name):\n",
    "        self.name = name\n",
    "        \n",
    "    def __repr__(self):\n",
    "        return f\"Fruit: {self.name}\""
   ]
  },
  {
   "cell_type": "code",
   "execution_count": null,
   "metadata": {},
   "outputs": [],
   "source": [
    "Fruit(\"apple\")"
   ]
  },
  {
   "cell_type": "code",
   "execution_count": null,
   "metadata": {},
   "outputs": [],
   "source": [
    "class CitrusFruit(Fruit):\n",
    "    def __init__(self, name, flavour='citrus'):\n",
    "        super().__init__(name)\n",
    "        self.flavour = flavour\n",
    "    \n",
    "    def __repr__(self):\n",
    "        return f\"Citrus Fruit: {self.name}, tastes {self.flavour}\""
   ]
  },
  {
   "cell_type": "code",
   "execution_count": null,
   "metadata": {},
   "outputs": [],
   "source": [
    "CitrusFruit(\"Orange\", flavour=\"lemony\")"
   ]
  },
  {
   "cell_type": "code",
   "execution_count": null,
   "metadata": {},
   "outputs": [],
   "source": []
  }
 ],
 "metadata": {
  "kernelspec": {
   "display_name": "Python 3",
   "language": "python",
   "name": "python3"
  },
  "language_info": {
   "codemirror_mode": {
    "name": "ipython",
    "version": 3
   },
   "file_extension": ".py",
   "mimetype": "text/x-python",
   "name": "python",
   "nbconvert_exporter": "python",
   "pygments_lexer": "ipython3",
   "version": "3.7.3"
  }
 },
 "nbformat": 4,
 "nbformat_minor": 2
}
